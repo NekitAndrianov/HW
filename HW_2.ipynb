{
 "cells": [
  {
   "cell_type": "code",
   "execution_count": 5,
   "id": "2f37bebe",
   "metadata": {},
   "outputs": [],
   "source": [
    "import numpy as np\n"
   ]
  },
  {
   "cell_type": "markdown",
   "id": "6039513d",
   "metadata": {},
   "source": [
    "1)"
   ]
  },
  {
   "cell_type": "code",
   "execution_count": 6,
   "id": "b45810fe",
   "metadata": {},
   "outputs": [
    {
     "name": "stdout",
     "output_type": "stream",
     "text": [
      "[[0 0 0 0 0]\n",
      " [1 0 0 0 0]\n",
      " [0 2 0 0 0]\n",
      " [0 0 3 0 0]\n",
      " [0 0 0 4 0]]\n"
     ]
    }
   ],
   "source": [
    "a = np.diag(np.arange(1, 5),-1)\n",
    "print (a)"
   ]
  },
  {
   "cell_type": "markdown",
   "id": "7b991105",
   "metadata": {},
   "source": [
    "2)"
   ]
  },
  {
   "cell_type": "code",
   "execution_count": 16,
   "id": "e3bc2177",
   "metadata": {},
   "outputs": [
    {
     "data": {
      "text/plain": [
       "(array([[0.05531218, 0.16289746, 0.39580035],\n",
       "        [0.87265794, 0.2610171 , 0.83924087],\n",
       "        [0.32578536, 0.74296166, 0.80807634],\n",
       "        [0.14851434, 0.61530895, 0.49776   ],\n",
       "        [0.62552359, 0.5222062 , 0.99083763],\n",
       "        [0.32290893, 0.57489263, 0.59762279],\n",
       "        [0.65416918, 0.23014367, 0.18383458],\n",
       "        [0.10147845, 0.42385458, 0.88361671],\n",
       "        [0.92800765, 0.85117714, 0.86319698],\n",
       "        [0.49991733, 0.71300898, 0.071829  ]]),\n",
       " array([0.39580035, 0.2610171 , 0.32578536, 0.49776   , 0.5222062 ,\n",
       "        0.57489263, 0.65416918, 0.42385458, 0.85117714, 0.49991733]))"
      ]
     },
     "execution_count": 16,
     "metadata": {},
     "output_type": "execute_result"
    }
   ],
   "source": [
    "a = np.random.random((10, 3))\n",
    "a, a[range(10), np.abs(a - 0.5).argmin(axis=1)]\n"
   ]
  },
  {
   "cell_type": "markdown",
   "id": "475d5bad",
   "metadata": {},
   "source": [
    "3)"
   ]
  },
  {
   "cell_type": "code",
   "execution_count": 18,
   "id": "10a66b2e",
   "metadata": {},
   "outputs": [
    {
     "data": {
      "text/plain": [
       "(array([[0.9487332 , 0.05899687, 0.71267166, 0.63531077, 0.0696269 ,\n",
       "         0.11884514],\n",
       "        [0.4404027 , 0.56868382, 0.72802972, 0.27085626, 0.06252732,\n",
       "         0.62683577],\n",
       "        [0.81085126, 0.90787238, 0.0588974 , 0.99822799, 0.43636947,\n",
       "         0.02837439],\n",
       "        [0.07455   , 0.89489545, 0.75607019, 0.29562998, 0.24771009,\n",
       "         0.54291673],\n",
       "        [0.49412646, 0.62101511, 0.43964051, 0.53085957, 0.76306717,\n",
       "         0.86810186],\n",
       "        [0.04499355, 0.97340588, 0.33053737, 0.66556679, 0.18832761,\n",
       "         0.55356655]]),\n",
       " [array([2.6816649 , 2.77102867, 4.28610059, 2.81676377, 4.8708827 ,\n",
       "         3.17520081])])"
      ]
     },
     "execution_count": 18,
     "metadata": {},
     "output_type": "execute_result"
    }
   ],
   "source": [
    "a = np.random.random((6, 6))\n",
    "a, [np.sum(a, axis = 1) / np.max(a, axis = 0)]"
   ]
  },
  {
   "cell_type": "markdown",
   "id": "cdc071f0",
   "metadata": {},
   "source": [
    "4)"
   ]
  },
  {
   "cell_type": "code",
   "execution_count": 21,
   "id": "04065b77",
   "metadata": {},
   "outputs": [
    {
     "data": {
      "text/plain": [
       "5"
      ]
     },
     "execution_count": 21,
     "metadata": {},
     "output_type": "execute_result"
    }
   ],
   "source": [
    "x = np.array([6, 2, 0, 3, 0, 0, 5, 7, 0])\n",
    "np.max(x[1:] [(x == 0)[:-1]])"
   ]
  },
  {
   "cell_type": "markdown",
   "id": "bfc872e4",
   "metadata": {},
   "source": [
    "5)"
   ]
  },
  {
   "cell_type": "code",
   "execution_count": 26,
   "id": "b067e757",
   "metadata": {},
   "outputs": [
    {
     "data": {
      "text/plain": [
       "array([2., 2., 2., 2., 1., 4., 1., 1., 2., 1.])"
      ]
     },
     "execution_count": 26,
     "metadata": {},
     "output_type": "execute_result"
    }
   ],
   "source": [
    "x = np.ones(10)\n",
    "i = np.array([0, 1, 2, 3, 5, 5, 5, 8])\n",
    "x + np.hstack((np.bincount(i), np.zeros(10-len(np.bincount(i)))))\n"
   ]
  },
  {
   "cell_type": "markdown",
   "id": "7fabc71a",
   "metadata": {},
   "source": [
    "6)"
   ]
  },
  {
   "cell_type": "code",
   "execution_count": 29,
   "id": "6a1323f8",
   "metadata": {},
   "outputs": [
    {
     "data": {
      "text/plain": [
       "(array([0.20123053, 0.06074627, 0.75522045, 0.20124102, 0.35982412,\n",
       "        0.62347934, 0.48773945, 0.9449801 , 0.63869519, 0.75351428,\n",
       "        0.4908402 , 0.15624148, 0.96158178, 0.80393176, 0.31946156,\n",
       "        0.58765648, 0.08172492, 0.63916845, 0.98961112, 0.35178858]),\n",
       " array([0., 0., 1., 0., 0., 1., 0., 1., 1., 1., 0., 0., 1., 1., 0., 1., 0.,\n",
       "        1., 1., 0.]))"
      ]
     },
     "execution_count": 29,
     "metadata": {},
     "output_type": "execute_result"
    }
   ],
   "source": [
    "a = np.random.random((20))\n",
    "a, np.around(a)"
   ]
  },
  {
   "cell_type": "code",
   "execution_count": 32,
   "id": "e833d517",
   "metadata": {},
   "outputs": [
    {
     "data": {
      "text/plain": [
       "(array([9.30231171, 0.64861642, 5.14933774, 6.5391578 , 9.46640924,\n",
       "        3.74357664, 1.79396932, 7.61854467, 2.56130452, 6.75705055,\n",
       "        3.84918237, 2.17687647, 1.55668196, 3.06516858, 9.71690033,\n",
       "        7.56752044, 7.02153616, 3.36668622, 7.28501794, 0.40188182]),\n",
       " array([ 9.,  1.,  5.,  7.,  9.,  4.,  2.,  8.,  3.,  7.,  4.,  2.,  2.,\n",
       "         3., 10.,  8.,  7.,  3.,  7.,  0.]))"
      ]
     },
     "execution_count": 32,
     "metadata": {},
     "output_type": "execute_result"
    }
   ],
   "source": [
    "a = np.random.random((20))*10\n",
    "a, (a + 0.5)//1"
   ]
  },
  {
   "cell_type": "markdown",
   "id": "73637da9",
   "metadata": {},
   "source": [
    "7 и 8(kNN)"
   ]
  },
  {
   "cell_type": "code",
   "execution_count": 34,
   "id": "52efadaf",
   "metadata": {},
   "outputs": [
    {
     "data": {
      "image/png": "[encoded data removed]",
      "text/plain": [
       "<Figure size 432x288 with 1 Axes>"
      ]
     },
     "metadata": {
      "needs_background": "light"
     },
     "output_type": "display_data"
    }
   ],
   "source": [
    "from sklearn.datasets import fetch_openml\n",
    "\n",
    "#Загрузка может занять около минуты\n",
    "images, labels = fetch_openml('mnist_784', return_X_y=True, as_frame=False)\n",
    "\n",
    "\n",
    "\n"
   ]
  },
  {
   "cell_type": "code",
   "execution_count": 35,
   "id": "672b9fef",
   "metadata": {},
   "outputs": [
    {
     "data": {
      "image/png": "[encoded data removed]",
      "text/plain": [
       "<Figure size 432x288 with 1 Axes>"
      ]
     },
     "metadata": {
      "needs_background": "light"
     },
     "output_type": "display_data"
    }
   ],
   "source": [
    "import matplotlib.pyplot as plt\n",
    "\n",
    "i = 125\n",
    "plt.imshow(images[i].reshape(28, 28), cmap='Greys_r')\n",
    "plt.title('Number ' + labels[i])\n",
    "plt.show()"
   ]
  },
  {
   "cell_type": "code",
   "execution_count": 42,
   "id": "38dc3bb1",
   "metadata": {},
   "outputs": [],
   "source": [
    "train_size = 1000\n",
    "train_images = images[:train_size]\n",
    "train_labels = labels[:train_size]\n",
    "\n",
    "test_size = 100\n",
    "test_images = images[-test_size:]\n",
    "test_labels = labels[-test_size:]\n",
    "\n"
   ]
  },
  {
   "cell_type": "code",
   "execution_count": 66,
   "id": "cf311e73",
   "metadata": {},
   "outputs": [],
   "source": [
    "from scipy.spatial.distance import cdist\n",
    "from sklearn.metrics import accuracy_score\n",
    "\n",
    "def kNN(train_X, train_Y, test_X, k):\n",
    "    \n",
    "    dist = cdist(test_X, train_X)\n",
    "    nearest = np.argsort(dist)[:, :k] \n",
    "    classes_of_nearest = train_Y[nearest]\n",
    "    all_classes = np.unique(train_Y)\n",
    "    result = np.concatenate([(classes_of_nearest == i).sum(axis = 1, keepdims = True) for i in all_classes], axis = 1)\n",
    "    result = result.argmax(axis = 1)\n",
    "\n",
    "    return all_classes[result]"
   ]
  },
  {
   "cell_type": "code",
   "execution_count": 72,
   "id": "2bc5461e",
   "metadata": {},
   "outputs": [
    {
     "data": {
      "image/png": "[encoded data removed]",
      "text/plain": [
       "<Figure size 432x288 with 1 Axes>"
      ]
     },
     "metadata": {
      "needs_background": "light"
     },
     "output_type": "display_data"
    }
   ],
   "source": [
    "K = list(range(1, 100))\n",
    "accur = []\n",
    "for k_ in K:\n",
    "    test = kNN(train_images, train_labels, test_images, k = k_)\n",
    "    accur.append(accuracy_score(test_labels, test))\n",
    "plt.plot(K, accur)\n",
    "plt.xlabel(\"k\")\n",
    "plt.ylabel(\"Accuracy\")\n",
    "plt.show()"
   ]
  },
  {
   "cell_type": "code",
   "execution_count": null,
   "id": "299bc006",
   "metadata": {},
   "outputs": [],
   "source": []
  }
 ],
 "metadata": {
  "kernelspec": {
   "display_name": "Python 3 (ipykernel)",
   "language": "python",
   "name": "python3"
  },
  "language_info": {
   "codemirror_mode": {
    "name": "ipython",
    "version": 3
   },
   "file_extension": ".py",
   "mimetype": "text/x-python",
   "name": "python",
   "nbconvert_exporter": "python",
   "pygments_lexer": "ipython3",
   "version": "3.9.12"
  }
 },
 "nbformat": 4,
 "nbformat_minor": 5
}
